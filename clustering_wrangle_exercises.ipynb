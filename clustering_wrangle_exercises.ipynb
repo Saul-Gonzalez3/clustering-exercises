{
 "cells": [
  {
   "cell_type": "markdown",
   "id": "53ea57e0-4245-4d5f-abd4-3938cf6726f6",
   "metadata": {},
   "source": [
    "<h1><b>Data Wrangling Exercises"
   ]
  },
  {
   "cell_type": "code",
   "execution_count": 1,
   "id": "24ac3485-06f2-4c10-b684-a8ec8aeb82db",
   "metadata": {
    "tags": []
   },
   "outputs": [],
   "source": [
    "import numpy as np\n",
    "import pandas as pd\n",
    "import os\n",
    "import env\n",
    "from scipy import stats\n",
    "import seaborn as sns\n",
    "import matplotlib.pyplot as plt\n",
    "\n",
    "directory = os.getcwd()\n",
    "# import splitting and imputing functions\n",
    "from sklearn.model_selection import train_test_split\n",
    "from sklearn.impute import SimpleImputer\n",
    "\n",
    "# import for scaling data\n",
    "from sklearn.preprocessing import MinMaxScaler\n",
    "\n",
    "# turn off pink boxes for demo\n",
    "import warnings\n",
    "warnings.filterwarnings(\"ignore\")\n",
    "import wrangle"
   ]
  },
  {
   "cell_type": "markdown",
   "id": "cd852a26-7d02-4fe4-a811-c6c37d795638",
   "metadata": {},
   "source": [
    "<h4><b>Acquire data from the cloud database.\n",
    "    \n",
    "    You will want to end with a single dataframe. Include the logerror field and all other fields related to the properties that are available. You will end up using all the tables in the database.\n",
    "\n"
   ]
  },
  {
   "cell_type": "code",
   "execution_count": 2,
   "id": "c0810eb0-b156-4b63-910b-11dc3bb4911d",
   "metadata": {
    "tags": []
   },
   "outputs": [],
   "source": [
    "SQL_query = '''\n",
    "SELECT prop.*, \n",
    "       pred.logerror, \n",
    "       pred.transactiondate, \n",
    "       air.airconditioningdesc, \n",
    "       arch.architecturalstyledesc, \n",
    "       build.buildingclassdesc, \n",
    "       heat.heatingorsystemdesc, \n",
    "       landuse.propertylandusedesc, \n",
    "       story.storydesc, \n",
    "       construct.typeconstructiondesc \n",
    "\n",
    "FROM   properties_2017 prop  \n",
    "       INNER JOIN (SELECT parcelid,\n",
    "       \t\t\t\t\t  logerror,\n",
    "                          Max(transactiondate) transactiondate \n",
    "                   FROM   predictions_2017 \n",
    "                   GROUP  BY parcelid, logerror) pred\n",
    "               USING (parcelid) \n",
    "       LEFT JOIN airconditioningtype air USING (airconditioningtypeid) \n",
    "       LEFT JOIN architecturalstyletype arch USING (architecturalstyletypeid) \n",
    "       LEFT JOIN buildingclasstype build USING (buildingclasstypeid) \n",
    "       LEFT JOIN heatingorsystemtype heat USING (heatingorsystemtypeid) \n",
    "       LEFT JOIN propertylandusetype landuse USING (propertylandusetypeid) \n",
    "       LEFT JOIN storytype story USING (storytypeid) \n",
    "       LEFT JOIN typeconstructiontype construct USING (typeconstructiontypeid) \n",
    "WHERE  prop.latitude IS NOT NULL \n",
    "       AND prop.longitude IS NOT NULL AND transactiondate <= '2017-12-31'\n",
    "'''"
   ]
  },
  {
   "cell_type": "code",
   "execution_count": 3,
   "id": "78806190-e253-4605-ab6b-980c0211054a",
   "metadata": {
    "tags": []
   },
   "outputs": [],
   "source": [
    "from wrangle import get_data, SQL_query\n",
    "df = get_data(SQL_query, directory, filename = 'zillow.csv')"
   ]
  },
  {
   "cell_type": "code",
   "execution_count": 4,
   "id": "156c8398-fefc-4786-9122-bfb0d1dca1f6",
   "metadata": {
    "tags": []
   },
   "outputs": [
    {
     "data": {
      "text/plain": [
       "(77574, 69)"
      ]
     },
     "execution_count": 4,
     "metadata": {},
     "output_type": "execute_result"
    }
   ],
   "source": [
    "df.shape"
   ]
  },
  {
   "cell_type": "markdown",
   "id": "f38f17e6-7704-456c-be38-c3a58cad4eba",
   "metadata": {
    "tags": []
   },
   "source": [
    "<h4><b>Summarize your data (summary stats, info, dtypes, shape, distributions, value_counts, etc.)"
   ]
  },
  {
   "cell_type": "code",
   "execution_count": 5,
   "id": "2cb23520-2e53-46eb-a45e-0fdce062da90",
   "metadata": {
    "tags": []
   },
   "outputs": [
    {
     "name": "stdout",
     "output_type": "stream",
     "text": [
      "--------------------------------\n",
      "--------------------------------\n",
      "Information on DataFrame: \n",
      "Shape of Dataframe: (77574, 69)\n",
      "--------------------------------\n",
      "Basic DataFrame info:\n",
      "<class 'pandas.core.frame.DataFrame'>\n",
      "RangeIndex: 77574 entries, 0 to 77573\n",
      "Data columns (total 69 columns):\n",
      " #   Column                        Non-Null Count  Dtype  \n",
      "---  ------                        --------------  -----  \n",
      " 0   Unnamed: 0                    77574 non-null  int64  \n",
      " 1   id                            77574 non-null  int64  \n",
      " 2   parcelid                      77574 non-null  int64  \n",
      " 3   airconditioningtypeid         25006 non-null  float64\n",
      " 4   architecturalstyletypeid      206 non-null    float64\n",
      " 5   basementsqft                  50 non-null     float64\n",
      " 6   bathroomcnt                   77574 non-null  float64\n",
      " 7   bedroomcnt                    77574 non-null  float64\n",
      " 8   buildingclasstypeid           15 non-null     float64\n",
      " 9   buildingqualitytypeid         49808 non-null  float64\n",
      " 10  calculatedbathnbr             76959 non-null  float64\n",
      " 11  decktypeid                    614 non-null    float64\n",
      " 12  finishedfloor1squarefeet      6035 non-null   float64\n",
      " 13  calculatedfinishedsquarefeet  77374 non-null  float64\n",
      " 14  finishedsquarefeet12          73919 non-null  float64\n",
      " 15  finishedsquarefeet13          42 non-null     float64\n",
      " 16  finishedsquarefeet15          3027 non-null   float64\n",
      " 17  finishedsquarefeet50          6035 non-null   float64\n",
      " 18  finishedsquarefeet6           386 non-null    float64\n",
      " 19  fips                          77574 non-null  float64\n",
      " 20  fireplacecnt                  8287 non-null   float64\n",
      " 21  fullbathcnt                   76959 non-null  float64\n",
      " 22  garagecarcnt                  25517 non-null  float64\n",
      " 23  garagetotalsqft               25517 non-null  float64\n",
      " 24  hashottuborspa                1539 non-null   float64\n",
      " 25  heatingorsystemtypeid         49569 non-null  float64\n",
      " 26  latitude                      77574 non-null  float64\n",
      " 27  longitude                     77574 non-null  float64\n",
      " 28  lotsizesquarefeet             69317 non-null  float64\n",
      " 29  poolcnt                       16173 non-null  float64\n",
      " 30  poolsizesum                   869 non-null    float64\n",
      " 31  pooltypeid10                  465 non-null    float64\n",
      " 32  pooltypeid2                   1074 non-null   float64\n",
      " 33  pooltypeid7                   15078 non-null  float64\n",
      " 34  propertycountylandusecode     77574 non-null  object \n",
      " 35  propertylandusetypeid         77574 non-null  float64\n",
      " 36  propertyzoningdesc            50474 non-null  object \n",
      " 37  rawcensustractandblock        77574 non-null  float64\n",
      " 38  regionidcity                  76102 non-null  float64\n",
      " 39  regionidcounty                77574 non-null  float64\n",
      " 40  regionidneighborhood          30973 non-null  float64\n",
      " 41  regionidzip                   77524 non-null  float64\n",
      " 42  roomcnt                       77574 non-null  float64\n",
      " 43  storytypeid                   50 non-null     float64\n",
      " 44  threequarterbathnbr           10105 non-null  float64\n",
      " 45  typeconstructiontypeid        222 non-null    float64\n",
      " 46  unitcnt                       50702 non-null  float64\n",
      " 47  yardbuildingsqft17            2393 non-null   float64\n",
      " 48  yardbuildingsqft26            70 non-null     float64\n",
      " 49  yearbuilt                     77305 non-null  float64\n",
      " 50  numberofstories               17596 non-null  float64\n",
      " 51  fireplaceflag                 172 non-null    float64\n",
      " 52  structuretaxvaluedollarcnt    77459 non-null  float64\n",
      " 53  taxvaluedollarcnt             77573 non-null  float64\n",
      " 54  assessmentyear                77574 non-null  float64\n",
      " 55  landtaxvaluedollarcnt         77572 non-null  float64\n",
      " 56  taxamount                     77569 non-null  float64\n",
      " 57  taxdelinquencyflag            2900 non-null   object \n",
      " 58  taxdelinquencyyear            2900 non-null   float64\n",
      " 59  censustractandblock           77327 non-null  float64\n",
      " 60  logerror                      77574 non-null  float64\n",
      " 61  transactiondate               77574 non-null  object \n",
      " 62  airconditioningdesc           25006 non-null  object \n",
      " 63  architecturalstyledesc        206 non-null    object \n",
      " 64  buildingclassdesc             15 non-null     object \n",
      " 65  heatingorsystemdesc           49569 non-null  object \n",
      " 66  propertylandusedesc           77574 non-null  object \n",
      " 67  storydesc                     50 non-null     object \n",
      " 68  typeconstructiondesc          222 non-null    object \n",
      "dtypes: float64(55), int64(3), object(11)\n",
      "memory usage: 40.8+ MB\n",
      "None\n",
      "--------------------------------\n",
      "Missing Values by Column: \n",
      "Unnamed: 0                      0\n",
      "id                              0\n",
      "parcelid                        0\n",
      "airconditioningtypeid       52568\n",
      "architecturalstyletypeid    77368\n",
      "                            ...  \n",
      "buildingclassdesc           77559\n",
      "heatingorsystemdesc         28005\n",
      "propertylandusedesc             0\n",
      "storydesc                   77524\n",
      "typeconstructiondesc        77352\n",
      "Length: 69, dtype: int64\n",
      "Missing Values by Row: \n",
      "|    |   missing_cells |   percent_missing |\n",
      "|---:|----------------:|------------------:|\n",
      "|  0 |              23 |          0.333333 |\n",
      "|  1 |              24 |          0.347826 |\n",
      "|  2 |              25 |          0.362319 |\n",
      "|  3 |              26 |          0.376812 |\n",
      "|  4 |              27 |          0.391304 |\n",
      "|  5 |              28 |          0.405797 |\n",
      "|  6 |              29 |          0.42029  |\n",
      "|  7 |              30 |          0.434783 |\n",
      "|  8 |              31 |          0.449275 |\n",
      "|  9 |              32 |          0.463768 |\n",
      "| 10 |              33 |          0.478261 |\n",
      "| 11 |              34 |          0.492754 |\n",
      "| 12 |              35 |          0.507246 |\n",
      "| 13 |              36 |          0.521739 |\n",
      "| 14 |              37 |          0.536232 |\n",
      "| 15 |              38 |          0.550725 |\n",
      "| 16 |              39 |          0.565217 |\n",
      "| 17 |              40 |          0.57971  |\n",
      "| 18 |              41 |          0.594203 |\n",
      "| 19 |              42 |          0.608696 |\n",
      "| 20 |              43 |          0.623188 |\n",
      "| 21 |              44 |          0.637681 |\n",
      "| 22 |              45 |          0.652174 |\n",
      "| 23 |              46 |          0.666667 |\n",
      "| 24 |              47 |          0.681159 |\n",
      "| 25 |              48 |          0.695652 |\n",
      "--------------------------------\n",
      "--------------------------------\n"
     ]
    }
   ],
   "source": [
    "from wrangle import summary_of_data\n",
    "summary_of_data(df)"
   ]
  },
  {
   "cell_type": "code",
   "execution_count": 6,
   "id": "045ecb4c-7c33-4484-b481-39739493b3c7",
   "metadata": {
    "tags": []
   },
   "outputs": [
    {
     "data": {
      "text/plain": [
       "69"
      ]
     },
     "execution_count": 6,
     "metadata": {},
     "output_type": "execute_result"
    }
   ],
   "source": [
    "df.columns.value_counts().sum()"
   ]
  },
  {
   "cell_type": "code",
   "execution_count": 7,
   "id": "c45a4447-a5d6-45f5-8f89-cb545b8e1292",
   "metadata": {
    "tags": []
   },
   "outputs": [
    {
     "data": {
      "text/plain": [
       "Index(['Unnamed: 0', 'id', 'parcelid', 'airconditioningtypeid',\n",
       "       'architecturalstyletypeid', 'basementsqft', 'bathroomcnt', 'bedroomcnt',\n",
       "       'buildingclasstypeid', 'buildingqualitytypeid', 'calculatedbathnbr',\n",
       "       'decktypeid', 'finishedfloor1squarefeet',\n",
       "       'calculatedfinishedsquarefeet', 'finishedsquarefeet12',\n",
       "       'finishedsquarefeet13', 'finishedsquarefeet15', 'finishedsquarefeet50',\n",
       "       'finishedsquarefeet6', 'fips', 'fireplacecnt', 'fullbathcnt',\n",
       "       'garagecarcnt', 'garagetotalsqft', 'hashottuborspa',\n",
       "       'heatingorsystemtypeid', 'latitude', 'longitude', 'lotsizesquarefeet',\n",
       "       'poolcnt', 'poolsizesum', 'pooltypeid10', 'pooltypeid2', 'pooltypeid7',\n",
       "       'propertycountylandusecode', 'propertylandusetypeid',\n",
       "       'propertyzoningdesc', 'rawcensustractandblock', 'regionidcity',\n",
       "       'regionidcounty', 'regionidneighborhood', 'regionidzip', 'roomcnt',\n",
       "       'storytypeid', 'threequarterbathnbr', 'typeconstructiontypeid',\n",
       "       'unitcnt', 'yardbuildingsqft17', 'yardbuildingsqft26', 'yearbuilt',\n",
       "       'numberofstories', 'fireplaceflag', 'structuretaxvaluedollarcnt',\n",
       "       'taxvaluedollarcnt', 'assessmentyear', 'landtaxvaluedollarcnt',\n",
       "       'taxamount', 'taxdelinquencyflag', 'taxdelinquencyyear',\n",
       "       'censustractandblock', 'logerror', 'transactiondate',\n",
       "       'airconditioningdesc', 'architecturalstyledesc', 'buildingclassdesc',\n",
       "       'heatingorsystemdesc', 'propertylandusedesc', 'storydesc',\n",
       "       'typeconstructiondesc'],\n",
       "      dtype='object')"
      ]
     },
     "execution_count": 7,
     "metadata": {},
     "output_type": "execute_result"
    }
   ],
   "source": [
    "df.columns"
   ]
  },
  {
   "cell_type": "markdown",
   "id": "5df40641-a7ea-4c4d-9c0f-f2d307391507",
   "metadata": {},
   "source": [
    "<h4><b>Write a function that takes in a dataframe of observations and attributes and returns a dataframe where each row is an atttribute name, the first column is the number of rows with missing values for that attribute, and the second column is percent of total rows that have missing values for that attribute. Run the function and document takeaways from this on how you want to handle missing values."
   ]
  },
  {
   "cell_type": "code",
   "execution_count": 8,
   "id": "43e5b11c-5c66-4c24-9881-f085adaccff6",
   "metadata": {
    "tags": []
   },
   "outputs": [
    {
     "data": {
      "text/html": [
       "<div>\n",
       "<style scoped>\n",
       "    .dataframe tbody tr th:only-of-type {\n",
       "        vertical-align: middle;\n",
       "    }\n",
       "\n",
       "    .dataframe tbody tr th {\n",
       "        vertical-align: top;\n",
       "    }\n",
       "\n",
       "    .dataframe thead th {\n",
       "        text-align: right;\n",
       "    }\n",
       "</style>\n",
       "<table border=\"1\" class=\"dataframe\">\n",
       "  <thead>\n",
       "    <tr style=\"text-align: right;\">\n",
       "      <th></th>\n",
       "      <th>number_missing_rows</th>\n",
       "      <th>percent_rows_missing</th>\n",
       "    </tr>\n",
       "  </thead>\n",
       "  <tbody>\n",
       "    <tr>\n",
       "      <th>buildingclasstypeid</th>\n",
       "      <td>77559</td>\n",
       "      <td>0.999807</td>\n",
       "    </tr>\n",
       "    <tr>\n",
       "      <th>buildingclassdesc</th>\n",
       "      <td>77559</td>\n",
       "      <td>0.999807</td>\n",
       "    </tr>\n",
       "    <tr>\n",
       "      <th>finishedsquarefeet13</th>\n",
       "      <td>77532</td>\n",
       "      <td>0.999459</td>\n",
       "    </tr>\n",
       "    <tr>\n",
       "      <th>storytypeid</th>\n",
       "      <td>77524</td>\n",
       "      <td>0.999355</td>\n",
       "    </tr>\n",
       "    <tr>\n",
       "      <th>storydesc</th>\n",
       "      <td>77524</td>\n",
       "      <td>0.999355</td>\n",
       "    </tr>\n",
       "    <tr>\n",
       "      <th>basementsqft</th>\n",
       "      <td>77524</td>\n",
       "      <td>0.999355</td>\n",
       "    </tr>\n",
       "    <tr>\n",
       "      <th>yardbuildingsqft26</th>\n",
       "      <td>77504</td>\n",
       "      <td>0.999098</td>\n",
       "    </tr>\n",
       "    <tr>\n",
       "      <th>fireplaceflag</th>\n",
       "      <td>77402</td>\n",
       "      <td>0.997783</td>\n",
       "    </tr>\n",
       "    <tr>\n",
       "      <th>architecturalstyletypeid</th>\n",
       "      <td>77368</td>\n",
       "      <td>0.997344</td>\n",
       "    </tr>\n",
       "    <tr>\n",
       "      <th>architecturalstyledesc</th>\n",
       "      <td>77368</td>\n",
       "      <td>0.997344</td>\n",
       "    </tr>\n",
       "    <tr>\n",
       "      <th>typeconstructiondesc</th>\n",
       "      <td>77352</td>\n",
       "      <td>0.997138</td>\n",
       "    </tr>\n",
       "    <tr>\n",
       "      <th>typeconstructiontypeid</th>\n",
       "      <td>77352</td>\n",
       "      <td>0.997138</td>\n",
       "    </tr>\n",
       "    <tr>\n",
       "      <th>finishedsquarefeet6</th>\n",
       "      <td>77188</td>\n",
       "      <td>0.995024</td>\n",
       "    </tr>\n",
       "    <tr>\n",
       "      <th>pooltypeid10</th>\n",
       "      <td>77109</td>\n",
       "      <td>0.994006</td>\n",
       "    </tr>\n",
       "    <tr>\n",
       "      <th>decktypeid</th>\n",
       "      <td>76960</td>\n",
       "      <td>0.992085</td>\n",
       "    </tr>\n",
       "    <tr>\n",
       "      <th>poolsizesum</th>\n",
       "      <td>76705</td>\n",
       "      <td>0.988798</td>\n",
       "    </tr>\n",
       "    <tr>\n",
       "      <th>pooltypeid2</th>\n",
       "      <td>76500</td>\n",
       "      <td>0.986155</td>\n",
       "    </tr>\n",
       "    <tr>\n",
       "      <th>hashottuborspa</th>\n",
       "      <td>76035</td>\n",
       "      <td>0.980161</td>\n",
       "    </tr>\n",
       "    <tr>\n",
       "      <th>yardbuildingsqft17</th>\n",
       "      <td>75181</td>\n",
       "      <td>0.969152</td>\n",
       "    </tr>\n",
       "    <tr>\n",
       "      <th>taxdelinquencyflag</th>\n",
       "      <td>74674</td>\n",
       "      <td>0.962616</td>\n",
       "    </tr>\n",
       "    <tr>\n",
       "      <th>taxdelinquencyyear</th>\n",
       "      <td>74674</td>\n",
       "      <td>0.962616</td>\n",
       "    </tr>\n",
       "    <tr>\n",
       "      <th>finishedsquarefeet15</th>\n",
       "      <td>74547</td>\n",
       "      <td>0.960979</td>\n",
       "    </tr>\n",
       "    <tr>\n",
       "      <th>finishedsquarefeet50</th>\n",
       "      <td>71539</td>\n",
       "      <td>0.922203</td>\n",
       "    </tr>\n",
       "    <tr>\n",
       "      <th>finishedfloor1squarefeet</th>\n",
       "      <td>71539</td>\n",
       "      <td>0.922203</td>\n",
       "    </tr>\n",
       "    <tr>\n",
       "      <th>fireplacecnt</th>\n",
       "      <td>69287</td>\n",
       "      <td>0.893173</td>\n",
       "    </tr>\n",
       "    <tr>\n",
       "      <th>threequarterbathnbr</th>\n",
       "      <td>67469</td>\n",
       "      <td>0.869737</td>\n",
       "    </tr>\n",
       "    <tr>\n",
       "      <th>pooltypeid7</th>\n",
       "      <td>62496</td>\n",
       "      <td>0.805631</td>\n",
       "    </tr>\n",
       "    <tr>\n",
       "      <th>poolcnt</th>\n",
       "      <td>61401</td>\n",
       "      <td>0.791515</td>\n",
       "    </tr>\n",
       "    <tr>\n",
       "      <th>numberofstories</th>\n",
       "      <td>59978</td>\n",
       "      <td>0.773171</td>\n",
       "    </tr>\n",
       "    <tr>\n",
       "      <th>airconditioningdesc</th>\n",
       "      <td>52568</td>\n",
       "      <td>0.677650</td>\n",
       "    </tr>\n",
       "    <tr>\n",
       "      <th>airconditioningtypeid</th>\n",
       "      <td>52568</td>\n",
       "      <td>0.677650</td>\n",
       "    </tr>\n",
       "    <tr>\n",
       "      <th>garagetotalsqft</th>\n",
       "      <td>52057</td>\n",
       "      <td>0.671062</td>\n",
       "    </tr>\n",
       "    <tr>\n",
       "      <th>garagecarcnt</th>\n",
       "      <td>52057</td>\n",
       "      <td>0.671062</td>\n",
       "    </tr>\n",
       "    <tr>\n",
       "      <th>regionidneighborhood</th>\n",
       "      <td>46601</td>\n",
       "      <td>0.600730</td>\n",
       "    </tr>\n",
       "    <tr>\n",
       "      <th>heatingorsystemtypeid</th>\n",
       "      <td>28005</td>\n",
       "      <td>0.361010</td>\n",
       "    </tr>\n",
       "    <tr>\n",
       "      <th>heatingorsystemdesc</th>\n",
       "      <td>28005</td>\n",
       "      <td>0.361010</td>\n",
       "    </tr>\n",
       "    <tr>\n",
       "      <th>buildingqualitytypeid</th>\n",
       "      <td>27766</td>\n",
       "      <td>0.357929</td>\n",
       "    </tr>\n",
       "    <tr>\n",
       "      <th>propertyzoningdesc</th>\n",
       "      <td>27100</td>\n",
       "      <td>0.349344</td>\n",
       "    </tr>\n",
       "    <tr>\n",
       "      <th>unitcnt</th>\n",
       "      <td>26872</td>\n",
       "      <td>0.346405</td>\n",
       "    </tr>\n",
       "    <tr>\n",
       "      <th>lotsizesquarefeet</th>\n",
       "      <td>8257</td>\n",
       "      <td>0.106440</td>\n",
       "    </tr>\n",
       "  </tbody>\n",
       "</table>\n",
       "</div>"
      ],
      "text/plain": [
       "                          number_missing_rows  percent_rows_missing\n",
       "buildingclasstypeid                     77559              0.999807\n",
       "buildingclassdesc                       77559              0.999807\n",
       "finishedsquarefeet13                    77532              0.999459\n",
       "storytypeid                             77524              0.999355\n",
       "storydesc                               77524              0.999355\n",
       "basementsqft                            77524              0.999355\n",
       "yardbuildingsqft26                      77504              0.999098\n",
       "fireplaceflag                           77402              0.997783\n",
       "architecturalstyletypeid                77368              0.997344\n",
       "architecturalstyledesc                  77368              0.997344\n",
       "typeconstructiondesc                    77352              0.997138\n",
       "typeconstructiontypeid                  77352              0.997138\n",
       "finishedsquarefeet6                     77188              0.995024\n",
       "pooltypeid10                            77109              0.994006\n",
       "decktypeid                              76960              0.992085\n",
       "poolsizesum                             76705              0.988798\n",
       "pooltypeid2                             76500              0.986155\n",
       "hashottuborspa                          76035              0.980161\n",
       "yardbuildingsqft17                      75181              0.969152\n",
       "taxdelinquencyflag                      74674              0.962616\n",
       "taxdelinquencyyear                      74674              0.962616\n",
       "finishedsquarefeet15                    74547              0.960979\n",
       "finishedsquarefeet50                    71539              0.922203\n",
       "finishedfloor1squarefeet                71539              0.922203\n",
       "fireplacecnt                            69287              0.893173\n",
       "threequarterbathnbr                     67469              0.869737\n",
       "pooltypeid7                             62496              0.805631\n",
       "poolcnt                                 61401              0.791515\n",
       "numberofstories                         59978              0.773171\n",
       "airconditioningdesc                     52568              0.677650\n",
       "airconditioningtypeid                   52568              0.677650\n",
       "garagetotalsqft                         52057              0.671062\n",
       "garagecarcnt                            52057              0.671062\n",
       "regionidneighborhood                    46601              0.600730\n",
       "heatingorsystemtypeid                   28005              0.361010\n",
       "heatingorsystemdesc                     28005              0.361010\n",
       "buildingqualitytypeid                   27766              0.357929\n",
       "propertyzoningdesc                      27100              0.349344\n",
       "unitcnt                                 26872              0.346405\n",
       "lotsizesquarefeet                        8257              0.106440"
      ]
     },
     "execution_count": 8,
     "metadata": {},
     "output_type": "execute_result"
    }
   ],
   "source": [
    "from wrangle import nulls_by_col\n",
    "nulls_by_column = nulls_by_col(df)\n",
    "nulls_by_column.sort_values(by=\"percent_rows_missing\", ascending=False).head(40)"
   ]
  },
  {
   "cell_type": "code",
   "execution_count": 9,
   "id": "9afa2377-0c86-47d9-b7bd-40dc3f699db0",
   "metadata": {
    "tags": []
   },
   "outputs": [
    {
     "data": {
      "text/plain": [
       "Index(['Unnamed: 0', 'id', 'parcelid', 'airconditioningtypeid',\n",
       "       'architecturalstyletypeid', 'basementsqft', 'bathroomcnt', 'bedroomcnt',\n",
       "       'buildingclasstypeid', 'buildingqualitytypeid', 'calculatedbathnbr',\n",
       "       'decktypeid', 'finishedfloor1squarefeet',\n",
       "       'calculatedfinishedsquarefeet', 'finishedsquarefeet12',\n",
       "       'finishedsquarefeet13', 'finishedsquarefeet15', 'finishedsquarefeet50',\n",
       "       'finishedsquarefeet6', 'fips', 'fireplacecnt', 'fullbathcnt',\n",
       "       'garagecarcnt', 'garagetotalsqft', 'hashottuborspa',\n",
       "       'heatingorsystemtypeid', 'latitude', 'longitude', 'lotsizesquarefeet',\n",
       "       'poolcnt', 'poolsizesum', 'pooltypeid10', 'pooltypeid2', 'pooltypeid7',\n",
       "       'propertycountylandusecode', 'propertylandusetypeid',\n",
       "       'propertyzoningdesc', 'rawcensustractandblock', 'regionidcity',\n",
       "       'regionidcounty', 'regionidneighborhood', 'regionidzip', 'roomcnt',\n",
       "       'storytypeid', 'threequarterbathnbr', 'typeconstructiontypeid',\n",
       "       'unitcnt', 'yardbuildingsqft17', 'yardbuildingsqft26', 'yearbuilt',\n",
       "       'numberofstories', 'fireplaceflag', 'structuretaxvaluedollarcnt',\n",
       "       'taxvaluedollarcnt', 'assessmentyear', 'landtaxvaluedollarcnt',\n",
       "       'taxamount', 'taxdelinquencyflag', 'taxdelinquencyyear',\n",
       "       'censustractandblock', 'logerror', 'transactiondate',\n",
       "       'airconditioningdesc', 'architecturalstyledesc', 'buildingclassdesc',\n",
       "       'heatingorsystemdesc', 'propertylandusedesc', 'storydesc',\n",
       "       'typeconstructiondesc'],\n",
       "      dtype='object')"
      ]
     },
     "execution_count": 9,
     "metadata": {},
     "output_type": "execute_result"
    }
   ],
   "source": [
    "df.columns"
   ]
  },
  {
   "cell_type": "code",
   "execution_count": 10,
   "id": "158216cd-11e3-4f65-9add-2f33e8d1cd0f",
   "metadata": {
    "tags": []
   },
   "outputs": [
    {
     "name": "stdout",
     "output_type": "stream",
     "text": [
      "<class 'pandas.core.frame.DataFrame'>\n",
      "Int64Index: 77560 entries, 0 to 77573\n",
      "Data columns (total 35 columns):\n",
      " #   Column                        Non-Null Count  Dtype  \n",
      "---  ------                        --------------  -----  \n",
      " 0   Unnamed: 0                    77560 non-null  int64  \n",
      " 1   id                            77560 non-null  int64  \n",
      " 2   parcelid                      77560 non-null  int64  \n",
      " 3   bathroomcnt                   77560 non-null  float64\n",
      " 4   bedroomcnt                    77560 non-null  float64\n",
      " 5   buildingqualitytypeid         49808 non-null  float64\n",
      " 6   calculatedbathnbr             76959 non-null  float64\n",
      " 7   calculatedfinishedsquarefeet  77374 non-null  float64\n",
      " 8   finishedsquarefeet12          73919 non-null  float64\n",
      " 9   fips                          77560 non-null  float64\n",
      " 10  fullbathcnt                   76959 non-null  float64\n",
      " 11  heatingorsystemtypeid         49569 non-null  float64\n",
      " 12  latitude                      77560 non-null  float64\n",
      " 13  longitude                     77560 non-null  float64\n",
      " 14  lotsizesquarefeet             69316 non-null  float64\n",
      " 15  propertycountylandusecode     77560 non-null  object \n",
      " 16  propertylandusetypeid         77560 non-null  float64\n",
      " 17  propertyzoningdesc            50469 non-null  object \n",
      " 18  rawcensustractandblock        77560 non-null  float64\n",
      " 19  regionidcity                  76095 non-null  float64\n",
      " 20  regionidcounty                77560 non-null  float64\n",
      " 21  regionidzip                   77515 non-null  float64\n",
      " 22  roomcnt                       77560 non-null  float64\n",
      " 23  unitcnt                       50702 non-null  float64\n",
      " 24  yearbuilt                     77305 non-null  float64\n",
      " 25  structuretaxvaluedollarcnt    77449 non-null  float64\n",
      " 26  taxvaluedollarcnt             77559 non-null  float64\n",
      " 27  assessmentyear                77560 non-null  float64\n",
      " 28  landtaxvaluedollarcnt         77559 non-null  float64\n",
      " 29  taxamount                     77555 non-null  float64\n",
      " 30  censustractandblock           77326 non-null  float64\n",
      " 31  logerror                      77560 non-null  float64\n",
      " 32  transactiondate               77560 non-null  object \n",
      " 33  heatingorsystemdesc           49569 non-null  object \n",
      " 34  propertylandusedesc           77560 non-null  object \n",
      "dtypes: float64(27), int64(3), object(5)\n",
      "memory usage: 21.3+ MB\n"
     ]
    }
   ],
   "source": [
    "from wrangle import handle_missing_values\n",
    "df = handle_missing_values(df)\n",
    "df.info()"
   ]
  },
  {
   "cell_type": "code",
   "execution_count": 11,
   "id": "3c2c2333-fa07-4dcf-9976-feff196d65d5",
   "metadata": {
    "tags": []
   },
   "outputs": [
    {
     "data": {
      "text/html": [
       "<div>\n",
       "<style scoped>\n",
       "    .dataframe tbody tr th:only-of-type {\n",
       "        vertical-align: middle;\n",
       "    }\n",
       "\n",
       "    .dataframe tbody tr th {\n",
       "        vertical-align: top;\n",
       "    }\n",
       "\n",
       "    .dataframe thead th {\n",
       "        text-align: right;\n",
       "    }\n",
       "</style>\n",
       "<table border=\"1\" class=\"dataframe\">\n",
       "  <thead>\n",
       "    <tr style=\"text-align: right;\">\n",
       "      <th></th>\n",
       "      <th>Unnamed: 0</th>\n",
       "      <th>id</th>\n",
       "      <th>parcelid</th>\n",
       "      <th>bathroomcnt</th>\n",
       "      <th>bedroomcnt</th>\n",
       "      <th>buildingqualitytypeid</th>\n",
       "      <th>calculatedbathnbr</th>\n",
       "      <th>calculatedfinishedsquarefeet</th>\n",
       "      <th>finishedsquarefeet12</th>\n",
       "      <th>fips</th>\n",
       "      <th>...</th>\n",
       "      <th>structuretaxvaluedollarcnt</th>\n",
       "      <th>taxvaluedollarcnt</th>\n",
       "      <th>assessmentyear</th>\n",
       "      <th>landtaxvaluedollarcnt</th>\n",
       "      <th>taxamount</th>\n",
       "      <th>censustractandblock</th>\n",
       "      <th>logerror</th>\n",
       "      <th>transactiondate</th>\n",
       "      <th>heatingorsystemdesc</th>\n",
       "      <th>propertylandusedesc</th>\n",
       "    </tr>\n",
       "  </thead>\n",
       "  <tbody>\n",
       "    <tr>\n",
       "      <th>0</th>\n",
       "      <td>0</td>\n",
       "      <td>1727539</td>\n",
       "      <td>14297519</td>\n",
       "      <td>3.5</td>\n",
       "      <td>4.0</td>\n",
       "      <td>NaN</td>\n",
       "      <td>3.5</td>\n",
       "      <td>3100.0</td>\n",
       "      <td>3100.0</td>\n",
       "      <td>6059.0</td>\n",
       "      <td>...</td>\n",
       "      <td>485713.0</td>\n",
       "      <td>1023282.0</td>\n",
       "      <td>2016.0</td>\n",
       "      <td>537569.0</td>\n",
       "      <td>11013.72</td>\n",
       "      <td>6.059063e+13</td>\n",
       "      <td>0.025595</td>\n",
       "      <td>2017-01-01</td>\n",
       "      <td>NaN</td>\n",
       "      <td>Single Family Residential</td>\n",
       "    </tr>\n",
       "    <tr>\n",
       "      <th>1</th>\n",
       "      <td>1</td>\n",
       "      <td>1387261</td>\n",
       "      <td>17052889</td>\n",
       "      <td>1.0</td>\n",
       "      <td>2.0</td>\n",
       "      <td>NaN</td>\n",
       "      <td>1.0</td>\n",
       "      <td>1465.0</td>\n",
       "      <td>1465.0</td>\n",
       "      <td>6111.0</td>\n",
       "      <td>...</td>\n",
       "      <td>88000.0</td>\n",
       "      <td>464000.0</td>\n",
       "      <td>2016.0</td>\n",
       "      <td>376000.0</td>\n",
       "      <td>5672.48</td>\n",
       "      <td>6.111001e+13</td>\n",
       "      <td>0.055619</td>\n",
       "      <td>2017-01-01</td>\n",
       "      <td>NaN</td>\n",
       "      <td>Single Family Residential</td>\n",
       "    </tr>\n",
       "    <tr>\n",
       "      <th>2</th>\n",
       "      <td>2</td>\n",
       "      <td>11677</td>\n",
       "      <td>14186244</td>\n",
       "      <td>2.0</td>\n",
       "      <td>3.0</td>\n",
       "      <td>NaN</td>\n",
       "      <td>2.0</td>\n",
       "      <td>1243.0</td>\n",
       "      <td>1243.0</td>\n",
       "      <td>6059.0</td>\n",
       "      <td>...</td>\n",
       "      <td>85289.0</td>\n",
       "      <td>564778.0</td>\n",
       "      <td>2016.0</td>\n",
       "      <td>479489.0</td>\n",
       "      <td>6488.30</td>\n",
       "      <td>6.059022e+13</td>\n",
       "      <td>0.005383</td>\n",
       "      <td>2017-01-01</td>\n",
       "      <td>NaN</td>\n",
       "      <td>Single Family Residential</td>\n",
       "    </tr>\n",
       "  </tbody>\n",
       "</table>\n",
       "<p>3 rows × 35 columns</p>\n",
       "</div>"
      ],
      "text/plain": [
       "   Unnamed: 0       id  parcelid  bathroomcnt  bedroomcnt  \\\n",
       "0           0  1727539  14297519          3.5         4.0   \n",
       "1           1  1387261  17052889          1.0         2.0   \n",
       "2           2    11677  14186244          2.0         3.0   \n",
       "\n",
       "   buildingqualitytypeid  calculatedbathnbr  calculatedfinishedsquarefeet  \\\n",
       "0                    NaN                3.5                        3100.0   \n",
       "1                    NaN                1.0                        1465.0   \n",
       "2                    NaN                2.0                        1243.0   \n",
       "\n",
       "   finishedsquarefeet12    fips  ...  structuretaxvaluedollarcnt  \\\n",
       "0                3100.0  6059.0  ...                    485713.0   \n",
       "1                1465.0  6111.0  ...                     88000.0   \n",
       "2                1243.0  6059.0  ...                     85289.0   \n",
       "\n",
       "   taxvaluedollarcnt  assessmentyear  landtaxvaluedollarcnt  taxamount  \\\n",
       "0          1023282.0          2016.0               537569.0   11013.72   \n",
       "1           464000.0          2016.0               376000.0    5672.48   \n",
       "2           564778.0          2016.0               479489.0    6488.30   \n",
       "\n",
       "  censustractandblock  logerror transactiondate  heatingorsystemdesc  \\\n",
       "0        6.059063e+13  0.025595      2017-01-01                  NaN   \n",
       "1        6.111001e+13  0.055619      2017-01-01                  NaN   \n",
       "2        6.059022e+13  0.005383      2017-01-01                  NaN   \n",
       "\n",
       "         propertylandusedesc  \n",
       "0  Single Family Residential  \n",
       "1  Single Family Residential  \n",
       "2  Single Family Residential  \n",
       "\n",
       "[3 rows x 35 columns]"
      ]
     },
     "execution_count": 11,
     "metadata": {},
     "output_type": "execute_result"
    }
   ],
   "source": [
    "df.head(3)"
   ]
  },
  {
   "cell_type": "code",
   "execution_count": 12,
   "id": "d5e1e039-ab02-4e24-9a7b-12caddf6bc95",
   "metadata": {
    "tags": []
   },
   "outputs": [],
   "source": [
    "df = df.drop(columns={'Unnamed: 0', 'id', 'calculatedbathnbr', 'finishedsquarefeet12', 'fullbathcnt', 'heatingorsystemtypeid'\n",
    "       ,'propertycountylandusecode', 'propertylandusetypeid','propertyzoningdesc', \n",
    "        'censustractandblock', 'propertylandusedesc', 'unitcnt'})"
   ]
  },
  {
   "cell_type": "code",
   "execution_count": 13,
   "id": "ad7d4915-3fcc-4855-8166-70e24f7a442c",
   "metadata": {
    "tags": []
   },
   "outputs": [
    {
     "data": {
      "text/plain": [
       "Index(['parcelid', 'bathroomcnt', 'bedroomcnt', 'buildingqualitytypeid',\n",
       "       'calculatedfinishedsquarefeet', 'fips', 'latitude', 'longitude',\n",
       "       'lotsizesquarefeet', 'rawcensustractandblock', 'regionidcity',\n",
       "       'regionidcounty', 'regionidzip', 'roomcnt', 'yearbuilt',\n",
       "       'structuretaxvaluedollarcnt', 'taxvaluedollarcnt', 'assessmentyear',\n",
       "       'landtaxvaluedollarcnt', 'taxamount', 'logerror', 'transactiondate',\n",
       "       'heatingorsystemdesc'],\n",
       "      dtype='object')"
      ]
     },
     "execution_count": 13,
     "metadata": {},
     "output_type": "execute_result"
    }
   ],
   "source": [
    "df.columns"
   ]
  },
  {
   "cell_type": "markdown",
   "id": "aee3b44e-ba68-4d8a-b723-1d8eaceeb596",
   "metadata": {
    "tags": []
   },
   "source": [
    "<h4><b>Prepare"
   ]
  },
  {
   "cell_type": "markdown",
   "id": "5f5b1dea-763b-456f-8114-ce2cb8c5138e",
   "metadata": {
    "tags": []
   },
   "source": [
    "<h4><b>Remove any properties that are likely to be something other than single unit properties. (e.g. no duplexes, no land/lot, ...). There are multiple ways to estimate that a property is a single unit, and there is not a single \"right\" answer."
   ]
  },
  {
   "cell_type": "markdown",
   "id": "eedf6bc3-3c16-4e87-87bf-e6e030557558",
   "metadata": {
    "tags": []
   },
   "source": [
    "<h4><b>Create a function that will drop rows or columns based on the percent of values that are missing: handle_missing_values(df, prop_required_column, prop_required_row).\n",
    "\n",
    "The input:\n",
    "A dataframe\n",
    "A number between 0 and 1 that represents the proportion, for each column, of rows with non-missing values required to keep the column. i.e. if prop_required_column = .6, then you are requiring a column to have at least 60% of values not-NA (no more than 40% missing).\n",
    "A number between 0 and 1 that represents the proportion, for each row, of columns/variables with non-missing values required to keep the row. For example, if prop_required_row = .75, then you are requiring a row to have at least 75% of variables with a non-missing value (no more that 25% missing).\n",
    "The output:\n",
    "The dataframe with the columns and rows dropped as indicated. Be sure to drop the columns prior to the rows in your function."
   ]
  },
  {
   "cell_type": "markdown",
   "id": "8e485d55-8ecc-416c-815e-bc5db89dfd28",
   "metadata": {
    "tags": []
   },
   "source": [
    "<h2><b>Mall Customers"
   ]
  },
  {
   "cell_type": "markdown",
   "id": "1b09b847-5b88-4eb1-b21d-47b2976ffbd9",
   "metadata": {
    "tags": []
   },
   "source": [
    "<h4><b>Acquire data from the customers table in the mall_customers database."
   ]
  },
  {
   "cell_type": "code",
   "execution_count": 14,
   "id": "a25936e5-8c8f-425d-af58-7fa2d7ff00a8",
   "metadata": {
    "tags": []
   },
   "outputs": [],
   "source": [
    "SQL_query = 'select * from customers'"
   ]
  },
  {
   "cell_type": "code",
   "execution_count": 15,
   "id": "8c57d009-9057-48d6-b232-6bb115051ff5",
   "metadata": {
    "tags": []
   },
   "outputs": [],
   "source": [
    "from wrangle import get_connection_url\n",
    "def new_data(SQL_query):\n",
    "    \"\"\"\n",
    "    This function will:\n",
    "    - take in a SQL_query\n",
    "    - create a connection_url to mySQL\n",
    "    - return a df of the given query from the mall_customers db\n",
    "    \"\"\"\n",
    "    url = get_connection_url('mall_customers')\n",
    "    \n",
    "    return pd.read_sql(SQL_query, url)"
   ]
  },
  {
   "cell_type": "code",
   "execution_count": 16,
   "id": "81d712bd-cc04-42c4-a1ce-23c12a904f30",
   "metadata": {
    "tags": []
   },
   "outputs": [
    {
     "data": {
      "text/html": [
       "<div>\n",
       "<style scoped>\n",
       "    .dataframe tbody tr th:only-of-type {\n",
       "        vertical-align: middle;\n",
       "    }\n",
       "\n",
       "    .dataframe tbody tr th {\n",
       "        vertical-align: top;\n",
       "    }\n",
       "\n",
       "    .dataframe thead th {\n",
       "        text-align: right;\n",
       "    }\n",
       "</style>\n",
       "<table border=\"1\" class=\"dataframe\">\n",
       "  <thead>\n",
       "    <tr style=\"text-align: right;\">\n",
       "      <th></th>\n",
       "      <th>customer_id</th>\n",
       "      <th>gender</th>\n",
       "      <th>age</th>\n",
       "      <th>annual_income</th>\n",
       "      <th>spending_score</th>\n",
       "    </tr>\n",
       "  </thead>\n",
       "  <tbody>\n",
       "    <tr>\n",
       "      <th>0</th>\n",
       "      <td>1</td>\n",
       "      <td>Male</td>\n",
       "      <td>19</td>\n",
       "      <td>15</td>\n",
       "      <td>39</td>\n",
       "    </tr>\n",
       "    <tr>\n",
       "      <th>1</th>\n",
       "      <td>2</td>\n",
       "      <td>Male</td>\n",
       "      <td>21</td>\n",
       "      <td>15</td>\n",
       "      <td>81</td>\n",
       "    </tr>\n",
       "    <tr>\n",
       "      <th>2</th>\n",
       "      <td>3</td>\n",
       "      <td>Female</td>\n",
       "      <td>20</td>\n",
       "      <td>16</td>\n",
       "      <td>6</td>\n",
       "    </tr>\n",
       "    <tr>\n",
       "      <th>3</th>\n",
       "      <td>4</td>\n",
       "      <td>Female</td>\n",
       "      <td>23</td>\n",
       "      <td>16</td>\n",
       "      <td>77</td>\n",
       "    </tr>\n",
       "    <tr>\n",
       "      <th>4</th>\n",
       "      <td>5</td>\n",
       "      <td>Female</td>\n",
       "      <td>31</td>\n",
       "      <td>17</td>\n",
       "      <td>40</td>\n",
       "    </tr>\n",
       "  </tbody>\n",
       "</table>\n",
       "</div>"
      ],
      "text/plain": [
       "   customer_id  gender  age  annual_income  spending_score\n",
       "0            1    Male   19             15              39\n",
       "1            2    Male   21             15              81\n",
       "2            3  Female   20             16               6\n",
       "3            4  Female   23             16              77\n",
       "4            5  Female   31             17              40"
      ]
     },
     "execution_count": 16,
     "metadata": {},
     "output_type": "execute_result"
    }
   ],
   "source": [
    "mall = new_data(SQL_query)\n",
    "mall.head()"
   ]
  },
  {
   "cell_type": "markdown",
   "id": "8e5389bf-487f-4567-9d2a-05ff67a1e079",
   "metadata": {
    "tags": []
   },
   "source": [
    "<h4><b>Summarize the data (include distributions and descriptive statistics).\n"
   ]
  },
  {
   "cell_type": "code",
   "execution_count": 17,
   "id": "a1837765-866f-40b7-b320-6ea375e23151",
   "metadata": {
    "tags": []
   },
   "outputs": [
    {
     "name": "stdout",
     "output_type": "stream",
     "text": [
      "--------------------------------\n",
      "--------------------------------\n",
      "Information on DataFrame: \n",
      "Shape of Dataframe: (200, 5)\n",
      "--------------------------------\n",
      "Basic DataFrame info:\n",
      "<class 'pandas.core.frame.DataFrame'>\n",
      "RangeIndex: 200 entries, 0 to 199\n",
      "Data columns (total 5 columns):\n",
      " #   Column          Non-Null Count  Dtype \n",
      "---  ------          --------------  ----- \n",
      " 0   customer_id     200 non-null    int64 \n",
      " 1   gender          200 non-null    object\n",
      " 2   age             200 non-null    int64 \n",
      " 3   annual_income   200 non-null    int64 \n",
      " 4   spending_score  200 non-null    int64 \n",
      "dtypes: int64(4), object(1)\n",
      "memory usage: 7.9+ KB\n",
      "None\n",
      "--------------------------------\n",
      "Missing Values by Column: \n",
      "customer_id       0\n",
      "gender            0\n",
      "age               0\n",
      "annual_income     0\n",
      "spending_score    0\n",
      "dtype: int64\n",
      "Missing Values by Row: \n",
      "|    |   missing_cells |   percent_missing |\n",
      "|---:|----------------:|------------------:|\n",
      "|  0 |               0 |                 0 |\n",
      "--------------------------------\n",
      "--------------------------------\n"
     ]
    }
   ],
   "source": [
    "summary_of_data(mall)"
   ]
  },
  {
   "cell_type": "code",
   "execution_count": 18,
   "id": "4f37eea4-a3de-489f-9b4a-454c7d07bfed",
   "metadata": {
    "tags": []
   },
   "outputs": [
    {
     "data": {
      "text/plain": [
       "array([[<Axes: title={'center': 'customer_id'}>,\n",
       "        <Axes: title={'center': 'age'}>],\n",
       "       [<Axes: title={'center': 'annual_income'}>,\n",
       "        <Axes: title={'center': 'spending_score'}>]], dtype=object)"
      ]
     },
     "execution_count": 18,
     "metadata": {},
     "output_type": "execute_result"
    },
    {
     "data": {
      "image/png": "[encoded data removed]",
      "text/plain": [
       "<Figure size 640x480 with 4 Axes>"
      ]
     },
     "metadata": {},
     "output_type": "display_data"
    }
   ],
   "source": [
    "mall.hist()"
   ]
  },
  {
   "cell_type": "code",
   "execution_count": 19,
   "id": "cbeaab53-447c-49c9-984f-c9ed65c765fc",
   "metadata": {
    "tags": []
   },
   "outputs": [],
   "source": [
    "mall_desc = mall.drop(columns='customer_id')"
   ]
  },
  {
   "cell_type": "code",
   "execution_count": 20,
   "id": "c301c81e-9132-44d3-8180-f2eb8d976577",
   "metadata": {
    "tags": []
   },
   "outputs": [
    {
     "data": {
      "text/plain": [
       "<Axes: >"
      ]
     },
     "execution_count": 20,
     "metadata": {},
     "output_type": "execute_result"
    },
    {
     "data": {
      "image/png": "[encoded data removed]",
      "text/plain": [
       "<Figure size 640x480 with 1 Axes>"
      ]
     },
     "metadata": {},
     "output_type": "display_data"
    }
   ],
   "source": [
    "sns.boxplot(mall_desc)"
   ]
  },
  {
   "cell_type": "markdown",
   "id": "8af8d475-616e-4686-b7a7-8b09a9777598",
   "metadata": {
    "tags": []
   },
   "source": [
    "<h4><b>Detect outliers using IQR.\n"
   ]
  },
  {
   "cell_type": "markdown",
   "id": "62ae162e-89f4-4be5-943a-d2cd3064938c",
   "metadata": {},
   "source": [
    "> It appears that annual income is the only column that has outliers. Let's have a look breaking the column down by quartile"
   ]
  },
  {
   "cell_type": "code",
   "execution_count": 21,
   "id": "82cfba55-0607-4e29-ae30-e0d441d6d65c",
   "metadata": {
    "tags": []
   },
   "outputs": [
    {
     "data": {
      "text/plain": [
       "count    200.000000\n",
       "mean      60.560000\n",
       "std       26.264721\n",
       "min       15.000000\n",
       "25%       41.500000\n",
       "50%       61.500000\n",
       "75%       78.000000\n",
       "max      137.000000\n",
       "Name: annual_income, dtype: float64"
      ]
     },
     "execution_count": 21,
     "metadata": {},
     "output_type": "execute_result"
    }
   ],
   "source": [
    "mall['annual_income'].describe()"
   ]
  },
  {
   "cell_type": "code",
   "execution_count": 22,
   "id": "53002723-57bb-4345-ac87-dd6df6686ff6",
   "metadata": {
    "tags": []
   },
   "outputs": [
    {
     "data": {
      "text/plain": [
       "199    137\n",
       "198    137\n",
       "197    126\n",
       "196    126\n",
       "195    120\n",
       "      ... \n",
       "5       17\n",
       "2       16\n",
       "3       16\n",
       "1       15\n",
       "0       15\n",
       "Name: annual_income, Length: 200, dtype: int64"
      ]
     },
     "execution_count": 22,
     "metadata": {},
     "output_type": "execute_result"
    }
   ],
   "source": [
    "mall['annual_income'].sort_values(ascending=False)"
   ]
  },
  {
   "cell_type": "code",
   "execution_count": 23,
   "id": "739c82f0-72f1-4600-a965-5346a9209a18",
   "metadata": {
    "tags": []
   },
   "outputs": [],
   "source": [
    "# function to detect and eliminate outliers using IQR rule\n",
    "\n",
    "def outlier_function(df, cols, k):\n",
    "    for col in df[cols]:\n",
    "        q1 = mall.annual_income.quantile(0.25)\n",
    "        q3 = mall.annual_income.quantile(0.75)\n",
    "        iqr = q3 - q1\n",
    "        upper_bound =  q3 + k * iqr\n",
    "        lower_bound =  q1 - k * iqr     \n",
    "        df = df[(df[col] < upper_bound) & (df[col] > lower_bound)]\n",
    "    return df"
   ]
  },
  {
   "cell_type": "code",
   "execution_count": 24,
   "id": "fbc69076-adfb-47fe-b070-12a8cf87526c",
   "metadata": {
    "tags": []
   },
   "outputs": [
    {
     "data": {
      "text/plain": [
       "(198, 5)"
      ]
     },
     "execution_count": 24,
     "metadata": {},
     "output_type": "execute_result"
    }
   ],
   "source": [
    "# use the outlier function defined above to handle outliers in numeric columns. k = 1.5\n",
    "\n",
    "mall_df = outlier_function(mall, ['age', 'spending_score', 'annual_income'], 1.5)\n",
    "mall_df.shape"
   ]
  },
  {
   "cell_type": "markdown",
   "id": "c863d532-5aaa-4cf3-b66a-f464f47135b8",
   "metadata": {
    "tags": []
   },
   "source": [
    "<h4><b>Encode categorical columns using a one hot encoder (pd.get_dummies).\n"
   ]
  },
  {
   "cell_type": "code",
   "execution_count": 25,
   "id": "a7572cda-3468-43b4-99a2-fb669ce8398d",
   "metadata": {
    "tags": []
   },
   "outputs": [
    {
     "name": "stdout",
     "output_type": "stream",
     "text": [
      "<class 'pandas.core.frame.DataFrame'>\n",
      "Int64Index: 198 entries, 0 to 197\n",
      "Data columns (total 5 columns):\n",
      " #   Column          Non-Null Count  Dtype \n",
      "---  ------          --------------  ----- \n",
      " 0   customer_id     198 non-null    int64 \n",
      " 1   gender          198 non-null    object\n",
      " 2   age             198 non-null    int64 \n",
      " 3   annual_income   198 non-null    int64 \n",
      " 4   spending_score  198 non-null    int64 \n",
      "dtypes: int64(4), object(1)\n",
      "memory usage: 9.3+ KB\n"
     ]
    }
   ],
   "source": [
    "mall_df.info()"
   ]
  },
  {
   "cell_type": "markdown",
   "id": "12206ce3-c7db-4fd8-8f1c-202c6c836e24",
   "metadata": {},
   "source": [
    "> I only need to encode the gender column ('object type')"
   ]
  },
  {
   "cell_type": "code",
   "execution_count": 26,
   "id": "1bca64e0-806d-46d1-8ed0-3b8324fe03a6",
   "metadata": {},
   "outputs": [
    {
     "data": {
      "text/html": [
       "<div>\n",
       "<style scoped>\n",
       "    .dataframe tbody tr th:only-of-type {\n",
       "        vertical-align: middle;\n",
       "    }\n",
       "\n",
       "    .dataframe tbody tr th {\n",
       "        vertical-align: top;\n",
       "    }\n",
       "\n",
       "    .dataframe thead th {\n",
       "        text-align: right;\n",
       "    }\n",
       "</style>\n",
       "<table border=\"1\" class=\"dataframe\">\n",
       "  <thead>\n",
       "    <tr style=\"text-align: right;\">\n",
       "      <th></th>\n",
       "      <th>age</th>\n",
       "      <th>annual_income</th>\n",
       "      <th>spending_score</th>\n",
       "      <th>Male</th>\n",
       "    </tr>\n",
       "  </thead>\n",
       "  <tbody>\n",
       "    <tr>\n",
       "      <th>0</th>\n",
       "      <td>19</td>\n",
       "      <td>15</td>\n",
       "      <td>39</td>\n",
       "      <td>1</td>\n",
       "    </tr>\n",
       "    <tr>\n",
       "      <th>1</th>\n",
       "      <td>21</td>\n",
       "      <td>15</td>\n",
       "      <td>81</td>\n",
       "      <td>1</td>\n",
       "    </tr>\n",
       "    <tr>\n",
       "      <th>2</th>\n",
       "      <td>20</td>\n",
       "      <td>16</td>\n",
       "      <td>6</td>\n",
       "      <td>0</td>\n",
       "    </tr>\n",
       "    <tr>\n",
       "      <th>3</th>\n",
       "      <td>23</td>\n",
       "      <td>16</td>\n",
       "      <td>77</td>\n",
       "      <td>0</td>\n",
       "    </tr>\n",
       "    <tr>\n",
       "      <th>4</th>\n",
       "      <td>31</td>\n",
       "      <td>17</td>\n",
       "      <td>40</td>\n",
       "      <td>0</td>\n",
       "    </tr>\n",
       "  </tbody>\n",
       "</table>\n",
       "</div>"
      ],
      "text/plain": [
       "   age  annual_income  spending_score  Male\n",
       "0   19             15              39     1\n",
       "1   21             15              81     1\n",
       "2   20             16               6     0\n",
       "3   23             16              77     0\n",
       "4   31             17              40     0"
      ]
     },
     "execution_count": 26,
     "metadata": {},
     "output_type": "execute_result"
    }
   ],
   "source": [
    "dummy_df = pd.get_dummies(mall_df.gender, drop_first=True)\n",
    "mall_df = pd.concat([mall_df, dummy_df], axis=1).drop(columns=['gender', 'customer_id'])\n",
    "mall_df.head()"
   ]
  },
  {
   "cell_type": "markdown",
   "id": "7e3e252c-d22e-49b1-91fb-4b97d6564b27",
   "metadata": {
    "tags": []
   },
   "source": [
    "<h4><b>Split data into train, validate, and test.\n"
   ]
  },
  {
   "cell_type": "code",
   "execution_count": 27,
   "id": "be85e667-4743-4f6f-8f2a-d47b3537aefb",
   "metadata": {
    "tags": []
   },
   "outputs": [
    {
     "data": {
      "text/plain": [
       "((110, 4), (48, 4), (40, 4))"
      ]
     },
     "execution_count": 27,
     "metadata": {},
     "output_type": "execute_result"
    }
   ],
   "source": [
    "train, validate, test = wrangle.split_data(mall_df)\n",
    "train.shape, validate.shape, test.shape"
   ]
  },
  {
   "cell_type": "code",
   "execution_count": 28,
   "id": "7730b10c-67d8-47e7-b929-c5812df53e86",
   "metadata": {
    "tags": []
   },
   "outputs": [
    {
     "data": {
      "text/html": [
       "<div>\n",
       "<style scoped>\n",
       "    .dataframe tbody tr th:only-of-type {\n",
       "        vertical-align: middle;\n",
       "    }\n",
       "\n",
       "    .dataframe tbody tr th {\n",
       "        vertical-align: top;\n",
       "    }\n",
       "\n",
       "    .dataframe thead th {\n",
       "        text-align: right;\n",
       "    }\n",
       "</style>\n",
       "<table border=\"1\" class=\"dataframe\">\n",
       "  <thead>\n",
       "    <tr style=\"text-align: right;\">\n",
       "      <th></th>\n",
       "      <th>age</th>\n",
       "      <th>annual_income</th>\n",
       "      <th>spending_score</th>\n",
       "      <th>Male</th>\n",
       "    </tr>\n",
       "  </thead>\n",
       "  <tbody>\n",
       "    <tr>\n",
       "      <th>45</th>\n",
       "      <td>24</td>\n",
       "      <td>39</td>\n",
       "      <td>65</td>\n",
       "      <td>0</td>\n",
       "    </tr>\n",
       "    <tr>\n",
       "      <th>39</th>\n",
       "      <td>20</td>\n",
       "      <td>37</td>\n",
       "      <td>75</td>\n",
       "      <td>0</td>\n",
       "    </tr>\n",
       "    <tr>\n",
       "      <th>11</th>\n",
       "      <td>35</td>\n",
       "      <td>19</td>\n",
       "      <td>99</td>\n",
       "      <td>0</td>\n",
       "    </tr>\n",
       "    <tr>\n",
       "      <th>171</th>\n",
       "      <td>28</td>\n",
       "      <td>87</td>\n",
       "      <td>75</td>\n",
       "      <td>1</td>\n",
       "    </tr>\n",
       "    <tr>\n",
       "      <th>95</th>\n",
       "      <td>24</td>\n",
       "      <td>60</td>\n",
       "      <td>52</td>\n",
       "      <td>1</td>\n",
       "    </tr>\n",
       "  </tbody>\n",
       "</table>\n",
       "</div>"
      ],
      "text/plain": [
       "     age  annual_income  spending_score  Male\n",
       "45    24             39              65     0\n",
       "39    20             37              75     0\n",
       "11    35             19              99     0\n",
       "171   28             87              75     1\n",
       "95    24             60              52     1"
      ]
     },
     "execution_count": 28,
     "metadata": {},
     "output_type": "execute_result"
    }
   ],
   "source": [
    "train.head()"
   ]
  },
  {
   "cell_type": "markdown",
   "id": "6b618ee8-1f1d-4ecd-ba9b-fb6fa19389bc",
   "metadata": {
    "tags": []
   },
   "source": [
    "<h4><b>Scaling\n"
   ]
  },
  {
   "cell_type": "code",
   "execution_count": 29,
   "id": "3d456c28-9c57-4257-993f-e0133ef9f1e7",
   "metadata": {
    "tags": []
   },
   "outputs": [],
   "source": [
    "from wrangle import min_max_scaler\n",
    "scaler, train_scaled, validate_scaled, test_scaled = min_max_scaler(train, validate, test)"
   ]
  },
  {
   "cell_type": "code",
   "execution_count": 30,
   "id": "6a7c78c7-e021-468c-bc20-ae13ce1fe7c5",
   "metadata": {
    "tags": []
   },
   "outputs": [
    {
     "data": {
      "text/html": [
       "<div>\n",
       "<style scoped>\n",
       "    .dataframe tbody tr th:only-of-type {\n",
       "        vertical-align: middle;\n",
       "    }\n",
       "\n",
       "    .dataframe tbody tr th {\n",
       "        vertical-align: top;\n",
       "    }\n",
       "\n",
       "    .dataframe thead th {\n",
       "        text-align: right;\n",
       "    }\n",
       "</style>\n",
       "<table border=\"1\" class=\"dataframe\">\n",
       "  <thead>\n",
       "    <tr style=\"text-align: right;\">\n",
       "      <th></th>\n",
       "      <th>age</th>\n",
       "      <th>annual_income</th>\n",
       "      <th>spending_score</th>\n",
       "      <th>Male</th>\n",
       "    </tr>\n",
       "  </thead>\n",
       "  <tbody>\n",
       "    <tr>\n",
       "      <th>45</th>\n",
       "      <td>0.115385</td>\n",
       "      <td>0.216216</td>\n",
       "      <td>0.653061</td>\n",
       "      <td>0.0</td>\n",
       "    </tr>\n",
       "    <tr>\n",
       "      <th>39</th>\n",
       "      <td>0.038462</td>\n",
       "      <td>0.198198</td>\n",
       "      <td>0.755102</td>\n",
       "      <td>0.0</td>\n",
       "    </tr>\n",
       "    <tr>\n",
       "      <th>11</th>\n",
       "      <td>0.326923</td>\n",
       "      <td>0.036036</td>\n",
       "      <td>1.000000</td>\n",
       "      <td>0.0</td>\n",
       "    </tr>\n",
       "    <tr>\n",
       "      <th>171</th>\n",
       "      <td>0.192308</td>\n",
       "      <td>0.648649</td>\n",
       "      <td>0.755102</td>\n",
       "      <td>1.0</td>\n",
       "    </tr>\n",
       "    <tr>\n",
       "      <th>95</th>\n",
       "      <td>0.115385</td>\n",
       "      <td>0.405405</td>\n",
       "      <td>0.520408</td>\n",
       "      <td>1.0</td>\n",
       "    </tr>\n",
       "  </tbody>\n",
       "</table>\n",
       "</div>"
      ],
      "text/plain": [
       "          age  annual_income  spending_score  Male\n",
       "45   0.115385       0.216216        0.653061   0.0\n",
       "39   0.038462       0.198198        0.755102   0.0\n",
       "11   0.326923       0.036036        1.000000   0.0\n",
       "171  0.192308       0.648649        0.755102   1.0\n",
       "95   0.115385       0.405405        0.520408   1.0"
      ]
     },
     "execution_count": 30,
     "metadata": {},
     "output_type": "execute_result"
    }
   ],
   "source": [
    "train_scaled.head()"
   ]
  },
  {
   "cell_type": "code",
   "execution_count": null,
   "id": "2b84d519-4170-4818-84fb-bf16756ffe95",
   "metadata": {
    "tags": []
   },
   "outputs": [],
   "source": []
  },
  {
   "cell_type": "code",
   "execution_count": null,
   "id": "56757d2b-38a9-4573-a7d1-d4fbc5750abd",
   "metadata": {},
   "outputs": [],
   "source": []
  }
 ],
 "metadata": {
  "kernelspec": {
   "display_name": "Python 3 (ipykernel)",
   "language": "python",
   "name": "python3"
  },
  "language_info": {
   "codemirror_mode": {
    "name": "ipython",
    "version": 3
   },
   "file_extension": ".py",
   "mimetype": "text/x-python",
   "name": "python",
   "nbconvert_exporter": "python",
   "pygments_lexer": "ipython3",
   "version": "3.11.4"
  }
 },
 "nbformat": 4,
 "nbformat_minor": 5
}
